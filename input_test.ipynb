{
 "cells": [
  {
   "cell_type": "code",
   "execution_count": 1,
   "metadata": {},
   "outputs": [
    {
     "name": "stdout",
     "output_type": "stream",
     "text": [
      "sequence: [{'type': 'copy_paste', 'value': '嘻'}, {'type': 'copy_paste', 'value': '嘻'}, {'type': 'copy_paste', 'value': '，'}, {'type': 'copy_paste', 'value': '对'}, {'type': 'copy_paste', 'value': '于'}, {'type': 'copy_paste', 'value': '您'}, {'type': 'copy_paste', 'value': '的'}, {'type': 'copy_paste', 'value': '问'}, {'type': 'copy_paste', 'value': '题'}, {'type': 'copy_paste', 'value': '“'}, {'type': 'copy_paste', 'value': '怎'}, {'type': 'copy_paste', 'value': '么'}, {'type': 'copy_paste', 'value': '样'}, {'type': 'copy_paste', 'value': '”'}, {'type': 'copy_paste', 'value': '，'}, {'type': 'copy_paste', 'value': '我'}, {'type': 'copy_paste', 'value': '理'}, {'type': 'copy_paste', 'value': '解'}, {'type': 'copy_paste', 'value': '您'}, {'type': 'copy_paste', 'value': '想'}, {'type': 'copy_paste', 'value': '了'}, {'type': 'copy_paste', 'value': '解'}, {'type': 'copy_paste', 'value': '关'}, {'type': 'copy_paste', 'value': '于'}, {'type': 'direct_input', 'value': '2'}, {'type': 'direct_input', 'value': '0'}, {'type': 'direct_input', 'value': '2'}, {'type': 'direct_input', 'value': '4'}, {'type': 'direct_input', 'value': '-'}, {'type': 'direct_input', 'value': '2'}, {'type': 'direct_input', 'value': '0'}, {'type': 'direct_input', 'value': '2'}, {'type': 'direct_input', 'value': '5'}, {'type': 'copy_paste', 'value': '学'}, {'type': 'copy_paste', 'value': '年'}, {'type': 'copy_paste', 'value': '研'}, {'type': 'copy_paste', 'value': '究'}, {'type': 'copy_paste', 'value': '生'}, {'type': 'copy_paste', 'value': '交'}, {'type': 'copy_paste', 'value': '换'}, {'type': 'copy_paste', 'value': '生'}, {'type': 'copy_paste', 'value': '项'}, {'type': 'copy_paste', 'value': '目'}, {'type': 'copy_paste', 'value': '的'}, {'type': 'copy_paste', 'value': '相'}, {'type': 'copy_paste', 'value': '关'}, {'type': 'copy_paste', 'value': '信'}, {'type': 'copy_paste', 'value': '息'}, {'type': 'copy_paste', 'value': '。'}, {'type': 'copy_paste', 'value': '根'}, {'type': 'copy_paste', 'value': '据'}, {'type': 'copy_paste', 'value': '我'}, {'type': 'copy_paste', 'value': '从'}, {'type': 'copy_paste', 'value': '知'}, {'type': 'copy_paste', 'value': '识'}, {'type': 'copy_paste', 'value': '库'}, {'type': 'copy_paste', 'value': '中'}, {'type': 'copy_paste', 'value': '所'}, {'type': 'copy_paste', 'value': '获'}, {'type': 'copy_paste', 'value': '取'}, {'type': 'copy_paste', 'value': '的'}, {'type': 'copy_paste', 'value': '信'}, {'type': 'copy_paste', 'value': '息'}, {'type': 'copy_paste', 'value': '，'}, {'type': 'direct_input', 'value': '2'}, {'type': 'direct_input', 'value': '0'}, {'type': 'direct_input', 'value': '2'}, {'type': 'direct_input', 'value': '4'}, {'type': 'direct_input', 'value': '-'}, {'type': 'direct_input', 'value': '2'}, {'type': 'direct_input', 'value': '0'}, {'type': 'direct_input', 'value': '2'}, {'type': 'direct_input', 'value': '5'}, {'type': 'copy_paste', 'value': '年'}, {'type': 'copy_paste', 'value': '研'}, {'type': 'copy_paste', 'value': '究'}, {'type': 'copy_paste', 'value': '生'}, {'type': 'copy_paste', 'value': '交'}, {'type': 'copy_paste', 'value': '换'}, {'type': 'copy_paste', 'value': '生'}, {'type': 'copy_paste', 'value': '项'}, {'type': 'copy_paste', 'value': '目'}, {'type': 'copy_paste', 'value': '每'}, {'type': 'copy_paste', 'value': '个'}, {'type': 'copy_paste', 'value': '学'}, {'type': 'copy_paste', 'value': '校'}, {'type': 'copy_paste', 'value': '名'}, {'type': 'copy_paste', 'value': '额'}, {'type': 'copy_paste', 'value': '有'}, {'type': 'copy_paste', 'value': '限'}, {'type': 'copy_paste', 'value': '，'}, {'type': 'copy_paste', 'value': '同'}, {'type': 'copy_paste', 'value': '一'}, {'type': 'copy_paste', 'value': '所'}, {'type': 'copy_paste', 'value': '学'}, {'type': 'copy_paste', 'value': '校'}, {'type': 'copy_paste', 'value': '每'}, {'type': 'copy_paste', 'value': '个'}, {'type': 'copy_paste', 'value': '院'}, {'type': 'copy_paste', 'value': '系'}, {'type': 'copy_paste', 'value': '只'}, {'type': 'copy_paste', 'value': '能'}, {'type': 'copy_paste', 'value': '推'}, {'type': 'copy_paste', 'value': '荐'}, {'type': 'direct_input', 'value': '1'}, {'type': 'copy_paste', 'value': '名'}, {'type': 'copy_paste', 'value': '同'}, {'type': 'copy_paste', 'value': '学'}, {'type': 'copy_paste', 'value': '。'}, {'type': 'copy_paste', 'value': '申'}, {'type': 'copy_paste', 'value': '请'}, {'type': 'copy_paste', 'value': '截'}, {'type': 'copy_paste', 'value': '止'}, {'type': 'copy_paste', 'value': '日'}, {'type': 'copy_paste', 'value': '期'}, {'type': 'copy_paste', 'value': '为'}, {'type': 'direct_input', 'value': '1'}, {'type': 'direct_input', 'value': '2'}, {'type': 'copy_paste', 'value': '月'}, {'type': 'direct_input', 'value': '2'}, {'type': 'direct_input', 'value': '7'}, {'type': 'copy_paste', 'value': '日'}, {'type': 'copy_paste', 'value': '。'}, {'type': 'copy_paste', 'value': '如'}, {'type': 'copy_paste', 'value': '果'}, {'type': 'copy_paste', 'value': '您'}, {'type': 'copy_paste', 'value': '对'}, {'type': 'copy_paste', 'value': '该'}, {'type': 'copy_paste', 'value': '项'}, {'type': 'copy_paste', 'value': '目'}, {'type': 'copy_paste', 'value': '感'}, {'type': 'copy_paste', 'value': '兴'}, {'type': 'copy_paste', 'value': '趣'}, {'type': 'copy_paste', 'value': '，'}, {'type': 'copy_paste', 'value': '建'}, {'type': 'copy_paste', 'value': '议'}, {'type': 'copy_paste', 'value': '您'}, {'type': 'copy_paste', 'value': '及'}, {'type': 'copy_paste', 'value': '时'}, {'type': 'copy_paste', 'value': '查'}, {'type': 'copy_paste', 'value': '看'}, {'type': 'copy_paste', 'value': '相'}, {'type': 'copy_paste', 'value': '关'}, {'type': 'copy_paste', 'value': '通'}, {'type': 'copy_paste', 'value': '知'}, {'type': 'copy_paste', 'value': '并'}, {'type': 'copy_paste', 'value': '按'}, {'type': 'copy_paste', 'value': '照'}, {'type': 'copy_paste', 'value': '要'}, {'type': 'copy_paste', 'value': '求'}, {'type': 'copy_paste', 'value': '进'}, {'type': 'copy_paste', 'value': '行'}, {'type': 'copy_paste', 'value': '申'}, {'type': 'copy_paste', 'value': '请'}, {'type': 'copy_paste', 'value': '。'}, {'type': 'copy_paste', 'value': '希'}, {'type': 'copy_paste', 'value': '望'}, {'type': 'copy_paste', 'value': '我'}, {'type': 'copy_paste', 'value': '的'}, {'type': 'copy_paste', 'value': '回'}, {'type': 'copy_paste', 'value': '答'}, {'type': 'copy_paste', 'value': '能'}, {'type': 'copy_paste', 'value': '对'}, {'type': 'copy_paste', 'value': '您'}, {'type': 'copy_paste', 'value': '有'}, {'type': 'copy_paste', 'value': '所'}, {'type': 'copy_paste', 'value': '帮'}, {'type': 'copy_paste', 'value': '助'}, {'type': 'copy_paste', 'value': '。'}, {'type': 'direct_input', 'value': '('}, {'type': 'copy_paste', 'value': '≧'}, {'type': 'copy_paste', 'value': '▽'}, {'type': 'copy_paste', 'value': '≦'}, {'type': 'direct_input', 'value': ')'}]\n"
     ]
    }
   ],
   "source": [
    "str = '嘻嘻，对于您的问题“怎么样”，我理解您想了解关于2024-2025学年研究生交换生项目的相关信息。根据我从知识库中所获取的信息，2024-2025年研究生交换生项目每个学校名额有限，同一所学校每个院系只能推荐1名同学。申请截止日期为12月27日。如果您对该项目感兴趣，建议您及时查看相关通知并按照要求进行申请。希望我的回答能对您有所帮助。(≧▽≦)'\n",
    "from input_converter import InputConverter\n",
    "input_converter = InputConverter()\n",
    "\n",
    "import time\n",
    "time.sleep(2)\n",
    "\n",
    "input_converter.perform_type(str, disable_wubi=True)\n",
    "\n"
   ]
  }
 ],
 "metadata": {
  "kernelspec": {
   "display_name": "base",
   "language": "python",
   "name": "python3"
  },
  "language_info": {
   "codemirror_mode": {
    "name": "ipython",
    "version": 3
   },
   "file_extension": ".py",
   "mimetype": "text/x-python",
   "name": "python",
   "nbconvert_exporter": "python",
   "pygments_lexer": "ipython3",
   "version": "3.11.5"
  }
 },
 "nbformat": 4,
 "nbformat_minor": 2
}
