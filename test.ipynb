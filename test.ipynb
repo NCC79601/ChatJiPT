{
 "cells": [
  {
   "cell_type": "code",
   "execution_count": 8,
   "metadata": {},
   "outputs": [
    {
     "name": "stderr",
     "output_type": "stream",
     "text": [
      "c:\\Users\\Max\\Desktop\\ChatJiPT\\frontend\\wxauto\\wxauto.py:82: UserWarning: \n",
      "\u001b[91m当前微信客户端版本为3.9.9.35，与当前库版本3.9.8.15不一致，可能会导致部分功能无法正常使用，请注意判断\u001b[0m\n",
      "  Warnings.lightred(self._lang('版本不一致', 'WARNING').format(wxversion, self.VERSION), stacklevel=2)\n"
     ]
    },
    {
     "name": "stdout",
     "output_type": "stream",
     "text": [
      "初始化成功，获取到已登录窗口：NCC-79601\n"
     ]
    }
   ],
   "source": [
    "from frontend.wxauto import WeChat\n",
    "import datetime\n",
    "import time\n",
    "wx = WeChat()"
   ]
  },
  {
   "cell_type": "code",
   "execution_count": 12,
   "metadata": {},
   "outputs": [
    {
     "name": "stdout",
     "output_type": "stream",
     "text": [
      "宝贝雯雯: 0\n",
      "CDC上海分C: 0\n",
      "文策の核心力量2024: 0\n",
      "铁三角: 0\n",
      "2024机械之声推送群: 0\n",
      "文件传输助手: 0\n",
      "我们一家: 0\n",
      "第七幼儿园六班专车: 0\n",
      "王铂钊: 0\n",
      "何思晓: 0\n",
      "折叠置顶聊天: 0\n",
      "\u001b[92m 2024-01-30 21:28:10.878213 \u001b[0m\n"
     ]
    },
    {
     "ename": "TypeError",
     "evalue": "WeChat.GetSessionAmont() missing 1 required positional argument: 'SessionItem'",
     "output_type": "error",
     "traceback": [
      "\u001b[1;31m---------------------------------------------------------------------------\u001b[0m",
      "\u001b[1;31mTypeError\u001b[0m                                 Traceback (most recent call last)",
      "Cell \u001b[1;32mIn[12], line 12\u001b[0m\n\u001b[0;32m      9\u001b[0m current_time \u001b[38;5;241m=\u001b[39m datetime\u001b[38;5;241m.\u001b[39mdatetime\u001b[38;5;241m.\u001b[39mnow()\n\u001b[0;32m     10\u001b[0m \u001b[38;5;28mprint\u001b[39m(\u001b[38;5;124m\"\u001b[39m\u001b[38;5;130;01m\\033\u001b[39;00m\u001b[38;5;124m[92m\u001b[39m\u001b[38;5;124m\"\u001b[39m, current_time, \u001b[38;5;124m\"\u001b[39m\u001b[38;5;130;01m\\033\u001b[39;00m\u001b[38;5;124m[0m\u001b[39m\u001b[38;5;124m\"\u001b[39m)\n\u001b[1;32m---> 12\u001b[0m \u001b[38;5;28mprint\u001b[39m(wx\u001b[38;5;241m.\u001b[39mGetSessionAmont())\n\u001b[0;32m     14\u001b[0m session_list \u001b[38;5;241m=\u001b[39m wx\u001b[38;5;241m.\u001b[39mGetSessionList()\n\u001b[0;32m     15\u001b[0m who \u001b[38;5;241m=\u001b[39m \u001b[38;5;28;01mNone\u001b[39;00m\n",
      "\u001b[1;31mTypeError\u001b[0m: WeChat.GetSessionAmont() missing 1 required positional argument: 'SessionItem'"
     ]
    }
   ],
   "source": [
    "session_list = wx.GetSessionList()\n",
    "# print(session_list)\n",
    "\n",
    "for session in session_list:\n",
    "    print(f'{session}: {session_list[session]}')\n",
    "\n",
    "while True:\n",
    "\n",
    "    current_time = datetime.datetime.now()\n",
    "    print(\"\\033[92m\", current_time, \"\\033[0m\")\n",
    "\n",
    "    session_list = wx.GetSessionList()\n",
    "    who = None\n",
    "    \n",
    "    for username in session_list:\n",
    "        if session_list[username] != 0:\n",
    "            # 未读消息\n",
    "            who = username\n",
    "            break\n",
    "    \n",
    "    if who is not None:\n",
    "        # 打开聊天窗口\n",
    "        wx.ChatWith(who)\n",
    "    \n",
    "    time.sleep(5)"
   ]
  },
  {
   "cell_type": "code",
   "execution_count": 16,
   "metadata": {},
   "outputs": [
    {
     "name": "stdout",
     "output_type": "stream",
     "text": [
      "2024-01-30 21:32:53.279 wxauto.py[109] _split -> Find Control Timeout(0s): {ControlType: ButtonControl}\n",
      "NCC-79601 那继续等你[旺柴]\n"
     ]
    }
   ],
   "source": [
    "msgs = wx.GetAllMessage()\n",
    "print(msgs[-1][0], msgs[-1][1])"
   ]
  }
 ],
 "metadata": {
  "kernelspec": {
   "display_name": "base",
   "language": "python",
   "name": "python3"
  },
  "language_info": {
   "codemirror_mode": {
    "name": "ipython",
    "version": 3
   },
   "file_extension": ".py",
   "mimetype": "text/x-python",
   "name": "python",
   "nbconvert_exporter": "python",
   "pygments_lexer": "ipython3",
   "version": "3.11.5"
  }
 },
 "nbformat": 4,
 "nbformat_minor": 2
}
