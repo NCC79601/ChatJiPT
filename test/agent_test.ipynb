{
 "cells": [
  {
   "cell_type": "code",
   "execution_count": 22,
   "metadata": {},
   "outputs": [
    {
     "name": "stdout",
     "output_type": "stream",
     "text": [
      "{'name': 'get_weather', 'parameters': {'city_name': '北京'}}\n"
     ]
    }
   ],
   "source": [
    "import json\n",
    "from api.post import post_raw\n",
    "\n",
    "tools = [\n",
    "    {\n",
    "        \"random_number_generator\": {\n",
    "            \"name\": \"random_number_generator\",\n",
    "            \"description\": \"Generates a random number x, s.t. range[0] <= x < range[1]\",\n",
    "            \"params\": [\n",
    "                {\n",
    "                    \"name\": \"seed\",\n",
    "                    \"description\": \"The random seed used by the generator\",\n",
    "                    \"type\": \"int\",\n",
    "                    \"required\": True\n",
    "                },\n",
    "                {\n",
    "                    \"name\": \"range\",\n",
    "                    \"description\": \"The range of the generated numbers\",\n",
    "                    \"type\": \"tuple[int, int]\",\n",
    "                    \"required\": True\n",
    "                }\n",
    "            ]\n",
    "        },\n",
    "        \"get_weather\": {\n",
    "            \"name\": \"get_weather\",\n",
    "            \"description\": \"Get the current weather for `city_name`\",\n",
    "            \"params\": [\n",
    "                {\n",
    "                    \"name\": \"city_name\",\n",
    "                    \"description\": \"The name of the city to be queried\",\n",
    "                    \"type\": \"str\",\n",
    "                    \"required\": True\n",
    "                }\n",
    "            ]\n",
    "        }\n",
    "    }\n",
    "]\n",
    "\n",
    "system_info = {\n",
    "    \"role\": \"system\",\n",
    "    \"content\": \"Answer the following questions as best as you can. You have access to the following tools: \" + json.dumps(tools),\n",
    "}\n",
    "\n",
    "history = [system_info]\n",
    "query = \"北京的天气怎么样\"\n",
    "response = post_raw(query, history)\n",
    "response_text = response['text'].split(\"<|observation|>\")[0]\n",
    "\n",
    "history.append({\n",
    "    \"role\": \"assistant\",\n",
    "    \"content\": response_text,\n",
    "})\n",
    "\n",
    "def parse_string(s):\n",
    "    import re\n",
    "    match = re.match(r\"(\\w+)\\n ```python\\n(\\w+)\\((\\w+)='(\\w+)'\\)\\n```\", s)\n",
    "    if match:\n",
    "        name = match.group(1)\n",
    "        function = match.group(2)\n",
    "        key = match.group(3)\n",
    "        value = match.group(4)\n",
    "        return {'name': name, 'parameters': {key: value}}\n",
    "    return None\n",
    "\n",
    "function_call = parse_string(response_text)\n",
    "print(function_call)"
   ]
  },
  {
   "cell_type": "code",
   "execution_count": 21,
   "metadata": {},
   "outputs": [
    {
     "name": "stdout",
     "output_type": "stream",
     "text": [
      "{'current_condition': {'temp_C': '2', 'FeelsLikeC': '1', 'humidity': '25', 'weatherDesc': [{'value': 'Clear'}], 'observation_time': '10:41 AM'}}\n"
     ]
    }
   ],
   "source": [
    "from tools.tool_register import get_tools, dispatch_tool\n",
    "tools = get_tools()\n",
    "\n",
    "tool_response = dispatch_tool(function_call['name'], function_call['parameters'])\n",
    "print(tool_response)"
   ]
  }
 ],
 "metadata": {
  "kernelspec": {
   "display_name": "base",
   "language": "python",
   "name": "python3"
  },
  "language_info": {
   "codemirror_mode": {
    "name": "ipython",
    "version": 3
   },
   "file_extension": ".py",
   "mimetype": "text/x-python",
   "name": "python",
   "nbconvert_exporter": "python",
   "pygments_lexer": "ipython3",
   "version": "3.11.5"
  }
 },
 "nbformat": 4,
 "nbformat_minor": 2
}
